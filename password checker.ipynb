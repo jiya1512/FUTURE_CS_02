{
 "cells": [
  {
   "cell_type": "code",
   "execution_count": 2,
   "id": "e2435577-47dc-4216-a231-31c2a55c6cf7",
   "metadata": {},
   "outputs": [],
   "source": [
    "import hashlib"
   ]
  },
  {
   "cell_type": "code",
   "execution_count": 14,
   "id": "a3da015e-ec7f-485b-9e7a-91a89a859ef8",
   "metadata": {},
   "outputs": [],
   "source": [
    "import re\n",
    "import json\n",
    "from cryptography.fernet import Fernet\n",
    "import os"
   ]
  },
  {
   "cell_type": "code",
   "execution_count": 26,
   "id": "f65dcf4b-b655-4efa-a990-e9a3cf671533",
   "metadata": {},
   "outputs": [],
   "source": [
    "# Generate or load encryption key\n",
    "def load_or_create_key():\n",
    "    key_file = \"key.key\"\n",
    "    if os.path.exists(key_file):\n",
    "        with open(key_file, \"rb\") as file:\n",
    "            return file.read()\n",
    "    else:\n",
    "        key = Fernet.generate_key()\n",
    "        with open(key_file, \"wb\") as file:\n",
    "            file.write(key)\n",
    "        return key"
   ]
  },
  {
   "cell_type": "code",
   "execution_count": 30,
   "id": "06314d0d-311c-4c23-aef5-8afe2568ee84",
   "metadata": {},
   "outputs": [],
   "source": [
    "# Ensure common passwords file exists\n",
    "def ensure_common_passwords_file():\n",
    "    if not os.path.exists(\"common_passwords.txt\"):\n",
    "        with open(\"common_passwords.txt\", \"w\") as f:\n",
    "            f.write(\"123456\\npassword\\n123456789\\nqwerty\\nabc123\\nletmein\\nwelcome\\n\")\n",
    "            \n",
    "ensure_common_passwords_file()"
   ]
  },
  {
   "cell_type": "code",
   "execution_count": 32,
   "id": "8c6878a5-fc88-4b82-a14a-afdd3935afb4",
   "metadata": {},
   "outputs": [],
   "source": [
    "key = load_or_create_key()\n",
    "cipher_suite = Fernet(key)"
   ]
  },
  {
   "cell_type": "code",
   "execution_count": 34,
   "id": "f51ab10f-2da1-4fdd-ab5c-090e5e706201",
   "metadata": {},
   "outputs": [],
   "source": [
    "# Check if password is strong\n",
    "def check_password_strength(password):\n",
    "    with open(\"common_passwords.txt\", \"r\") as f:\n",
    "        common_passwords = set(f.read().splitlines())\n",
    "    \n",
    "    if len(password) < 8:\n",
    "        return \"Weak: Password should be at least 8 characters long.\"\n",
    "    \n",
    "    if password in common_passwords:\n",
    "        return \"Weak: Password is commonly used.\"\n",
    "    \n",
    "    if re.search(r'(.)\\1{2,}', password):\n",
    "        return \"Weak: Password has repeated characters.\"\n",
    "    \n",
    "    if not re.search(r'[!@#$%^&*(),.?\":{}|<>]', password):\n",
    "        return \"Weak: Password should contain at least one special character.\"\n",
    "    \n",
    "    return \"Strong Password!\""
   ]
  },
  {
   "cell_type": "code",
   "execution_count": 36,
   "id": "15037fb3-7e48-4730-95c7-aedcf7372e35",
   "metadata": {},
   "outputs": [],
   "source": [
    "# Store password securely\n",
    "def store_password(website, password):\n",
    "    encrypted_password = cipher_suite.encrypt(password.encode()).decode()\n",
    "    data = {}\n",
    "    if os.path.exists(\"passwords.json\"):\n",
    "        with open(\"passwords.json\", \"r\") as file:\n",
    "            data = json.load(file)\n",
    "    \n",
    "    data[website] = encrypted_password\n",
    "    \n",
    "    with open(\"passwords.json\", \"w\") as file:\n",
    "        json.dump(data, file, indent=4)\n",
    "    \n",
    "    print(\"Password stored securely!\")"
   ]
  },
  {
   "cell_type": "code",
   "execution_count": null,
   "id": "7c59f587-2675-4f87-9f0f-54afd0e4b706",
   "metadata": {},
   "outputs": [
    {
     "name": "stdout",
     "output_type": "stream",
     "text": [
      "\n",
      "Password Analyzer and Manager\n",
      "1. Check Password Strength\n",
      "2. Store Password\n",
      "3. Retrieve Password\n",
      "4. Exit\n"
     ]
    },
    {
     "name": "stdin",
     "output_type": "stream",
     "text": [
      "Enter choice:  @15.Jiya\n"
     ]
    },
    {
     "name": "stdout",
     "output_type": "stream",
     "text": [
      "Invalid choice. Try again.\n",
      "\n",
      "Password Analyzer and Manager\n",
      "1. Check Password Strength\n",
      "2. Store Password\n",
      "3. Retrieve Password\n",
      "4. Exit\n"
     ]
    },
    {
     "name": "stdin",
     "output_type": "stream",
     "text": [
      "Enter choice:  1\n",
      "Enter password to check:  @15.Jiya\n"
     ]
    },
    {
     "name": "stdout",
     "output_type": "stream",
     "text": [
      "Strong Password!\n",
      "\n",
      "Password Analyzer and Manager\n",
      "1. Check Password Strength\n",
      "2. Store Password\n",
      "3. Retrieve Password\n",
      "4. Exit\n"
     ]
    },
    {
     "name": "stdin",
     "output_type": "stream",
     "text": [
      "Enter choice:  1\n",
      "Enter password to check:  @15.jiya\n"
     ]
    },
    {
     "name": "stdout",
     "output_type": "stream",
     "text": [
      "Strong Password!\n",
      "\n",
      "Password Analyzer and Manager\n",
      "1. Check Password Strength\n",
      "2. Store Password\n",
      "3. Retrieve Password\n",
      "4. Exit\n"
     ]
    }
   ],
   "source": [
    "# Retrieve password\n",
    "def retrieve_password(website):\n",
    "    if os.path.exists(\"passwords.json\"):\n",
    "        with open(\"passwords.json\", \"r\") as file:\n",
    "            data = json.load(file)\n",
    "        \n",
    "        if website in data:\n",
    "            decrypted_password = cipher_suite.decrypt(data[website].encode()).decode()\n",
    "            return decrypted_password\n",
    "        else:\n",
    "            return \"No password found for this website.\"\n",
    "    else:\n",
    "        return \"No stored passwords.\"\n",
    "\n",
    "if __name__ == \"__main__\":\n",
    "    while True:\n",
    "        print(\"\\nPassword Analyzer and Manager\")\n",
    "        print(\"1. Check Password Strength\")\n",
    "        print(\"2. Store Password\")\n",
    "        print(\"3. Retrieve Password\")\n",
    "        print(\"4. Exit\")\n",
    "        choice = input(\"Enter choice: \")\n",
    "        \n",
    "        if choice == \"1\":\n",
    "            pwd = input(\"Enter password to check: \")\n",
    "            print(check_password_strength(pwd))\n",
    "        elif choice == \"2\":\n",
    "            site = input(\"Enter website: \")\n",
    "            pwd = input(\"Enter password: \")\n",
    "            store_password(site, pwd)\n",
    "        elif choice == \"3\":\n",
    "            site = input(\"Enter website: \")\n",
    "            print(\"Retrieved Password:\", retrieve_password(site))\n",
    "        elif choice == \"4\":\n",
    "            break\n",
    "        else:\n",
    "            print(\"Invalid choice. Try again.\")"
   ]
  },
  {
   "cell_type": "code",
   "execution_count": null,
   "id": "c26482d5-9b85-4e6c-8a45-f537bbed2bb7",
   "metadata": {},
   "outputs": [],
   "source": []
  }
 ],
 "metadata": {
  "kernelspec": {
   "display_name": "Python [conda env:base] *",
   "language": "python",
   "name": "conda-base-py"
  },
  "language_info": {
   "codemirror_mode": {
    "name": "ipython",
    "version": 3
   },
   "file_extension": ".py",
   "mimetype": "text/x-python",
   "name": "python",
   "nbconvert_exporter": "python",
   "pygments_lexer": "ipython3",
   "version": "3.12.7"
  }
 },
 "nbformat": 4,
 "nbformat_minor": 5
}
